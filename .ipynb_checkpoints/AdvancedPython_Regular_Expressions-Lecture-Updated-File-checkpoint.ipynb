{
 "cells": [
  {
   "cell_type": "markdown",
   "metadata": {},
   "source": [
    "# Regular Expressions"
   ]
  },
  {
   "cell_type": "markdown",
   "metadata": {},
   "source": [
    "# Tasks today:\n",
    "1) <b>Importing</b> <br>\n",
    "2) <b>Using Regular Expressions</b> <br>\n",
    " &nbsp;&nbsp;&nbsp;&nbsp; a) re.compile() <br>\n",
    " &nbsp;&nbsp;&nbsp;&nbsp; b) re.match() <br>\n",
    " &nbsp;&nbsp;&nbsp;&nbsp; c) re.findall() <br>\n",
    " &nbsp;&nbsp;&nbsp;&nbsp; d) re.search() <br>\n",
    "3) <b>Sets</b> <br>\n",
    " &nbsp;&nbsp;&nbsp;&nbsp; a) Integer Ranges <br>\n",
    " &nbsp;&nbsp;&nbsp;&nbsp; b) Character Ranges <br>\n",
    "4) <b>Counting Occurences</b> <br>\n",
    " &nbsp;&nbsp;&nbsp;&nbsp; a) {x} <br>\n",
    " &nbsp;&nbsp;&nbsp;&nbsp; b) {, x} <br>\n",
    " &nbsp;&nbsp;&nbsp;&nbsp; c) {?} <br>\n",
    " &nbsp;&nbsp;&nbsp;&nbsp; d) {*} <br>\n",
    " &nbsp;&nbsp;&nbsp;&nbsp; e) {+} <br>\n",
    "5) <b>In-Class Exercise #1</b> <br>\n",
    "6) <b>Escaping Characters</b> <br>\n",
    "7) <b>Grouping</b> <br>\n",
    "8) <b>In-Class Exercise #2</b> <br>\n",
    "9) <b>Opening a File</b> <br>\n",
    " &nbsp;&nbsp;&nbsp;&nbsp; a) open() <br>\n",
    " &nbsp;&nbsp;&nbsp;&nbsp; b) with open() <br>\n",
    " &nbsp;&nbsp;&nbsp;&nbsp; c) re.match() <br>\n",
    " &nbsp;&nbsp;&nbsp;&nbsp; d) re.search() <br>\n",
    " &nbsp;&nbsp;&nbsp;&nbsp; e) Store the String in a Variable <br>\n",
    "10) <b>Regex Project</b> <br>"
   ]
  },
  {
   "cell_type": "markdown",
   "metadata": {},
   "source": [
    "### Importing <br>\n",
    "<p>Regular Expressions are universal throughout most programming languages... They are generally imported through the module 're'.</p>"
   ]
  },
  {
   "cell_type": "code",
   "execution_count": 1,
   "metadata": {},
   "outputs": [],
   "source": [
    "# import re **re is not a builtin function\n",
    "import re\n",
    "#help(__builtins__)"
   ]
  },
  {
   "cell_type": "markdown",
   "metadata": {},
   "source": [
    "### Using Regular Expressions <br>\n",
    "<p>Regular expressions give us the ability to search for patterns within text, strings, files, etc. They serve several uses, such as; security measures, searching, filtering, pattern recognition, and more...</p>"
   ]
  },
  {
   "cell_type": "markdown",
   "metadata": {},
   "source": [
    "##### re.compile()"
   ]
  },
  {
   "cell_type": "code",
   "execution_count": 2,
   "metadata": {},
   "outputs": [],
   "source": [
    "# using compile, pre determines the string to be used in regular expression methods\n",
    "pattern = re.compile('abcd')\n",
    "\n"
   ]
  },
  {
   "cell_type": "markdown",
   "metadata": {},
   "source": [
    "##### re.match()"
   ]
  },
  {
   "cell_type": "code",
   "execution_count": 3,
   "metadata": {},
   "outputs": [
    {
     "name": "stdout",
     "output_type": "stream",
     "text": [
      "<re.Match object; span=(0, 4), match='abcd'>\n",
      "(0, 4)\n"
     ]
    }
   ],
   "source": [
    "# here is where we look for thr pattern\n",
    "#See if they match\n",
    "match = pattern.match('abcd123')\n",
    "print(match)\n",
    "#can use this method to access the span of the match\n",
    "print(match.span()) # this returns a tuple of the indexes of the sting for the match\n",
    "\n",
    "#span is what we are looking for index 0 to 4(exclusive)"
   ]
  },
  {
   "cell_type": "markdown",
   "metadata": {},
   "source": [
    "##### re.findall()"
   ]
  },
  {
   "cell_type": "code",
   "execution_count": 4,
   "metadata": {},
   "outputs": [
    {
     "name": "stdout",
     "output_type": "stream",
     "text": [
      "['abcd', 'abcd', 'abcd']\n",
      "Help on function findall in module re:\n",
      "\n",
      "findall(pattern, string, flags=0)\n",
      "    Return a list of all non-overlapping matches in the string.\n",
      "    \n",
      "    If one or more capturing groups are present in the pattern, return\n",
      "    a list of groups; this will be a list of tuples if the pattern\n",
      "    has more than one group.\n",
      "    \n",
      "    Empty matches are included in the result.\n",
      "\n"
     ]
    }
   ],
   "source": [
    "#better to use in a large string, will pattern match for  every instance in the string\n",
    "#FINDs ALL OCCURANCES OF THE PATTERN\n",
    "finders = pattern.findall('123abcd abcd123 abcd abcabc acb')\n",
    "print (finders)\n",
    "help(re.findall) #this does not return the match , so you don't have the tuple of spans,\n",
    "                 #but it returns the list of matches\n"
   ]
  },
  {
   "cell_type": "markdown",
   "metadata": {},
   "source": [
    "##### re.search()"
   ]
  },
  {
   "cell_type": "code",
   "execution_count": 5,
   "metadata": {},
   "outputs": [
    {
     "name": "stdout",
     "output_type": "stream",
     "text": [
      "<re.Match object; span=(12, 16), match='abcd'>\n",
      "(12, 16) <class 'tuple'>\n",
      "abcd\n",
      "abcd\n"
     ]
    }
   ],
   "source": [
    "#left to right only returns the ONLY the FIRST OCCURANCE of the pattern\n",
    "\n",
    "random_string = '123 123 234 abcd abc abcd bcd'\n",
    "search = pattern.search(random_string)\n",
    "print(search)\n",
    "\n",
    "#so you can use span return as a variable that you can the acccess the maatch in the string\n",
    "# it will always be just the two character tuple (12,16)\n",
    "found_span = search.span()\n",
    "print(found_span,type(found_span))\n",
    "print(random_string[found_span[0] :found_span[1]])\n",
    "print(random_string[12:16])"
   ]
  },
  {
   "cell_type": "markdown",
   "metadata": {},
   "source": [
    "### Sets <br>\n",
    "<p>The following cells will allow you to use regular expressions to search for certain values within a range such as numbers 1 through 4.</p>"
   ]
  },
  {
   "cell_type": "markdown",
   "metadata": {},
   "source": [
    "##### [a-z] or [A-Z] - any lowercase/uppercase letters from a to z<br/>[^2] - anything that's not 2"
   ]
  },
  {
   "cell_type": "markdown",
   "metadata": {},
   "source": [
    "##### Integer Ranges"
   ]
  },
  {
   "cell_type": "code",
   "execution_count": 6,
   "metadata": {},
   "outputs": [
    {
     "name": "stdout",
     "output_type": "stream",
     "text": [
      "<re.Match object; span=(0, 2), match='67'>\n",
      "(0, 2)\n",
      "['67', '38']\n",
      "Help on function compile in module re:\n",
      "\n",
      "compile(pattern, flags=0)\n",
      "    Compile a regular expression pattern, returning a Pattern object.\n",
      "\n"
     ]
    }
   ],
   "source": [
    "#This is different than the data structure set(), can have duplicates\n",
    "# first case  - [^2] - anything that's not 2\n",
    "#So looking for a pattern of 2 digits the first digit must be between\n",
    "#0 and 7(inclusive) second number between 7-9 inclusive\n",
    "\n",
    "                         #this is a set\n",
    "pattern_int = re.compile('[0-7][7-9]')\n",
    "\n",
    "random_numbers = pattern_int.match('67383') #only \n",
    "fnd_span = random_numbers.span()\n",
    "print(random_numbers)\n",
    "print(fnd_span)\n",
    "#print(random_numbers[fnd_span[0])  #:fnd_span[1]])\n",
    "                     \n",
    "find_randoms = pattern_int.findall('67383')\n",
    "print(find_randoms)\n",
    "\n",
    "#re.compile is looking for a string thata why weven pattern matching integers \n",
    "#you put them in a strin\n",
    "help(re.compile)\n",
    "\n"
   ]
  },
  {
   "cell_type": "markdown",
   "metadata": {},
   "source": [
    "##### Character Ranges"
   ]
  },
  {
   "cell_type": "code",
   "execution_count": 7,
   "metadata": {},
   "outputs": [
    {
     "name": "stdout",
     "output_type": "stream",
     "text": [
      "['He', 'Mr', 'An']\n"
     ]
    }
   ],
   "source": [
    "char_pattern = re.compile('[A-Z][a-z]') # compile always looking for a string\n",
    "\n",
    "found = char_pattern.findall(\"Hello there Mr. Anderson\")\n",
    "print(found)"
   ]
  },
  {
   "cell_type": "markdown",
   "metadata": {},
   "source": [
    "### Counting Occurences"
   ]
  },
  {
   "cell_type": "markdown",
   "metadata": {},
   "source": [
    "##### {x} - something that occurs {num_of_times}"
   ]
  },
  {
   "cell_type": "code",
   "execution_count": 8,
   "metadata": {},
   "outputs": [
    {
     "name": "stdout",
     "output_type": "stream",
     "text": [
      "['An33', 'Bb11']\n"
     ]
    }
   ],
   "source": [
    "# use a set to count an occuraance\n",
    "#                                uppercase (a-z) then a lower case (a-z) then 2 numbers that follow a lowercase letters\n",
    "char_pattern_count = re.compile('[A-Z][a-z][0-3]{2}')\n",
    "found_count = char_pattern_count.findall(\"Hello there Mr. An33derson Bb11\")\n",
    "print(found_count)"
   ]
  },
  {
   "cell_type": "markdown",
   "metadata": {},
   "source": [
    "##### {x, x} - something that occurs between x and x times"
   ]
  },
  {
   "cell_type": "code",
   "execution_count": 9,
   "metadata": {},
   "outputs": [
    {
     "name": "stdout",
     "output_type": "stream",
     "text": [
      "['m', 'm', 'mmmm', 'm', 'mmm', 'mmmmm']\n"
     ]
    }
   ],
   "source": [
    "#Range lookings for m's that repeat up to 5 times ms that are singular\n",
    "random_pattern = re.compile('m{1,5}') # 1-5 IS AN INCLUSIVE RANGE\n",
    "random_statement = random_pattern.findall('The is an example of a reg exp tring to find one m , mmmm more than one mmm for f mmmmms')\n",
    "print(random_statement)"
   ]
  },
  {
   "cell_type": "markdown",
   "metadata": {},
   "source": [
    "##### ? - something that occurs 0 or 1 time"
   ]
  },
  {
   "cell_type": "code",
   "execution_count": 10,
   "metadata": {},
   "outputs": [
    {
     "name": "stdout",
     "output_type": "stream",
     "text": [
      "['M', 'M', 'M', 'M', 'M', 'Ms', 'M', 'Ms']\n",
      "['Mr', 'Mrs', 'Mr']\n",
      "['Mrss', 'Mrs']\n",
      "['Mrss']\n"
     ]
    }
   ],
   "source": [
    "#counting scenario\n",
    "# looks for something at least0 - 1?  searching for one M by itself or an Ms (occurance maybe or not at all)\n",
    "#YOU CAN MOVE THE QUESTION MARK AND IT CHANGES\n",
    "import re\n",
    "pattern = re.compile('Ms?')\n",
    "\n",
    "found_pat = pattern.findall(\"Hello there Mr Anderson, and Mrs Anerson how is MM M  the Ms Anderson  Mrtttt  Ms\")\n",
    "print(found_pat)\n",
    "\n",
    "#it will kind of look for thhe last two in this case > Mr or Ms,IT WONT PICKUP JUST M now looking for 2 or 3\n",
    "pattern1 = re.compile('Mrs?')\n",
    "found_pat = pattern1.findall(\"Hello there Mr Anderson, and Mrs Anerson how is MM M  the Ms Anderson  Mrtttt  Ms\")\n",
    "print(found_pat)\n",
    "\n",
    "#it will kind of look for thhe last three in this case  now looking for 3 or 4\n",
    "pattern1 = re.compile('Mrss?')\n",
    "found_pat = pattern1.findall(\"Hello there Mrss Anderson, and Mrs Anerson how is MM M  the Ms Anderson  Mrtttt  Ms\")\n",
    "print(found_pat)\n",
    "\n",
    "#it will kind of look for thhe last three in this case  now looking for 3 or 4\n",
    "pattern1 = re.compile('M?rss')\n",
    "found_pat = pattern1.findall(\"Hello there Mrss Anderson, and Mrs Anerson how is MM M  the Ms Anderson  Mrtttt  Ms\")\n",
    "print(found_pat)\n",
    "\n",
    "\n"
   ]
  },
  {
   "cell_type": "markdown",
   "metadata": {},
   "source": [
    "##### * - something that occurs at least 0 times"
   ]
  },
  {
   "cell_type": "code",
   "execution_count": 11,
   "metadata": {},
   "outputs": [
    {
     "name": "stdout",
     "output_type": "stream",
     "text": [
      "['M', 'M', 'M', 'Ms', 'Mssss']\n",
      "['s', 'Ms', 's', 's', 'Ms', 's', 's', 's']\n"
     ]
    }
   ],
   "source": [
    "#counting scenario\n",
    "#find any occurance at all at any point of Ms\n",
    "\n",
    "pattern_m = re.compile('Ms*')\n",
    "found_pat = pattern_m.findall('MMMy name is Ms.Smith. this is Mssss')\n",
    "print(found_pat)\n",
    "\n",
    "pattern_m = re.compile('M*s')\n",
    "found_pat = pattern_m.findall('MMMy name is Ms.Smith. this is Mssss')\n",
    "print(found_pat)"
   ]
  },
  {
   "cell_type": "markdown",
   "metadata": {},
   "source": [
    "##### + - something that occurs at least once"
   ]
  },
  {
   "cell_type": "code",
   "execution_count": 12,
   "metadata": {},
   "outputs": [
    {
     "name": "stdout",
     "output_type": "stream",
     "text": [
      "['Ms', 'MMMMMs']\n",
      "['Ms', 'Msssss']\n"
     ]
    }
   ],
   "source": [
    "#another counting scenario\n",
    "pattern_again = re.compile('M+s')\n",
    "found_patt = pattern_again.findall('my name is Ms.Smith . This is MMMMMsssss')\n",
    "print(found_patt)\n",
    "\n",
    "pattern_again = re.compile('Ms+')\n",
    "found_patt = pattern_again.findall('my name is Ms.Smith . This is MMMMMsssss')\n",
    "print(found_patt)"
   ]
  },
  {
   "cell_type": "markdown",
   "metadata": {},
   "source": [
    "##### In-class exercise 1: \n",
    "\n",
    "Use a regular expression to find every number in the given string"
   ]
  },
  {
   "cell_type": "code",
   "execution_count": 13,
   "metadata": {},
   "outputs": [
    {
     "name": "stdout",
     "output_type": "stream",
     "text": [
      "['', '', '', '', '', '', '', '', '', '', '', '', '', '', '', '', '1', '0', '9', '0', '9', '0', '9', '0', '', '', '', '', '', '', '', '', '', '', '', '', '', '', '', '', '', '', '', '', '', '', '', '', '', '1', '', '', '', '', '', '', '', '', '', '', '', '', '', '', '', '', '', '', '', '', '', '', '', '', '', '', '', '', '', '', '', '2', '', '', '', '', '']\n",
      "['10909090', '1', '2']\n",
      "['10909090', '1', '2']\n"
     ]
    }
   ],
   "source": [
    "my_string = \"This string has 10909090 numbers, but it is only 1 string. I hope you solve this 2day.\"\n",
    "# Output: ['10909090','1',2]\n",
    "\n",
    "# pattern = re.compile('Ms?')\n",
    "# found_pat = pattern.findall(\"Hello there Mr Anderson, and Mrs Anerson how is MM M  the Ms Anderson  Mrtttt  Ms\")\n",
    "# print(found_pat)\n",
    "\n",
    "#pattern_m = re.compile('Ms*')\n",
    "#char_pattern = re.compile('[A-Z][a-z]')\n",
    "#finders = pattern.findall('123abcd abcd123 abcd abcabc acb')\n",
    "\n",
    "# pattern_int = re.compile('[0-7][7-9]')\n",
    "# random_numbers = pattern_int.match('67383') #only \n",
    "# fnd_span = random_numbers.span()\n",
    "# print(random_numbers)\n",
    "\n",
    "pattern = re.compile('[0-9]?')\n",
    "#pattern = re.compile('[0-9?]')\n",
    "#pattern = re.compile('[0-9?]')\n",
    "found_pat = pattern.findall (\"This string has 10909090 numbers, but it is only 1 string. I hope you solve this 2day.\")\n",
    "print(found_pat)\n",
    "\n",
    "\n",
    "# pattern_int = re.compile('[0-9]')\n",
    "# random_numbers = pattern_int.match(\"This string has 10909090 numbers, but it is only 1 string. I hope you solve this 2day.\")\n",
    "# print(random_numbers)\n",
    "\n",
    "pattern_num = re.compile('[0-9]*[0-9]')\n",
    "found_num = pattern_num.findall(my_string)\n",
    "print (found_num)\n",
    "\n",
    "pattern_num = re.compile('[0-9]+')\n",
    "found_num = pattern_num.findall(my_string)\n",
    "print (found_num)"
   ]
  },
  {
   "cell_type": "markdown",
   "metadata": {},
   "source": [
    "### Escaping Characters"
   ]
  },
  {
   "cell_type": "markdown",
   "metadata": {},
   "source": [
    "##### \\w - look for any Unicode character<br/>\\W - look for anything that isnt a Unicode character\n",
    "\n",
    "[History on Unicode](http://unicode.org/standard/WhatIsUnicode.html)\n",
    "\n",
    "[More on Unicode Characters](https://en.wikipedia.org/wiki/List_of_Unicode_characters)"
   ]
  },
  {
   "cell_type": "code",
   "execution_count": 14,
   "metadata": {},
   "outputs": [
    {
     "name": "stdout",
     "output_type": "stream",
     "text": [
      "['This', 'is', 'a', 'sentence', 'with', 'an', 'exclamation', 'mark', 'at', 'the', 'end']\n",
      "[' ', ' ', ' ', ' . ', ' ', ' ', ' ', ' ', ' ', ' ', '!']\n"
     ]
    }
   ],
   "source": [
    "#want to escape ( can be looking for all unicode cahractres or looking for everythin but unicode characters) \n",
    "# \"/w \"to look for all unicode or  \"/W\"  to llok for all non unicode characters\n",
    "# Unicode examples( ' ? a space \"\"! ) special characters generally\n",
    "\n",
    "# the + will look for all unicode charcters while it compiles\n",
    "pattern_1 = re.compile('[\\w]+')\n",
    "pattern_2 = re.compile('[\\W]+') # will return spaces, commas, exclamation marks\n",
    "\n",
    "found1 = pattern_1.findall('This is a sentence . with an exclamation mark at the end!')\n",
    "found2 = pattern_2.findall('This is a sentence . with an exclamation mark at the end!')\n",
    "print(found1)\n",
    "print(found2)"
   ]
  },
  {
   "cell_type": "markdown",
   "metadata": {},
   "source": [
    "##### \\d - look for any digit 0-9<br/>\\D - look for anything that isnt a digit"
   ]
  },
  {
   "cell_type": "code",
   "execution_count": 15,
   "metadata": {},
   "outputs": [
    {
     "name": "stdout",
     "output_type": "stream",
     "text": [
      "['7th', '20da', '27th', '3rd', '1st', '30th']\n"
     ]
    }
   ],
   "source": [
    "# looking for date ranges\n",
    "#looking for dates\n",
    "#looking for anything that is a digit between 0-9, I want look for number insuccession once\n",
    "#or twice thatt also have letters between a-z that happen twice\n",
    "\n",
    "pattern_nums = re.compile('\\d{1,2}[a-z]{2}')\n",
    "\n",
    "found_date = pattern_nums.findall('Today the the 7th, in the 20days it eill be the 27th. 3rd,1st,30th')\n",
    "print(found_date)"
   ]
  },
  {
   "cell_type": "markdown",
   "metadata": {},
   "source": [
    "##### \\s - look for any white space<br/>\\S - look for anything that isnt whitespace"
   ]
  },
  {
   "cell_type": "code",
   "execution_count": 16,
   "metadata": {},
   "outputs": [
    {
     "name": "stdout",
     "output_type": "stream",
     "text": [
      "['Are', 'you', 'afraid', 'of', 'the', 'dark']\n",
      "[' ', ' ', ' ', ' ', ' ']\n"
     ]
    }
   ],
   "source": [
    "#Looking for whitespace in genberal \\s, looking for anything tthat IS NOT WHITESPACE \\S\n",
    "\n",
    "pattern_nospace = re.compile('\\S[a-z]+') \n",
    "found_dark = pattern_nospace.findall('Are you afraid of the dark?')\n",
    "print(found_dark)\n",
    "\n",
    "pattern_space = re.compile('\\s+')#This finds all the whitespace\n",
    "\n",
    "#pattern_space = re.compile('\\s[a-z]+')# looking for anything that has a  space in front of a letter\n",
    "found_space = pattern_space.findall('Are you afraid of the dark?')\n",
    "print(found_space)"
   ]
  },
  {
   "cell_type": "markdown",
   "metadata": {},
   "source": [
    "##### \\b - look for boundaries or edges of a word<br/>\\B - look for anything that isnt a boundary"
   ]
  },
  {
   "cell_type": "code",
   "execution_count": 17,
   "metadata": {},
   "outputs": [
    {
     "name": "stdout",
     "output_type": "stream",
     "text": [
      "['TheCodingTemple']\n",
      "[]\n"
     ]
    }
   ],
   "source": [
    "#whatever is in the string treat is as a raw value\n",
    "#boundaries are usually special chatacters looking for the beginning  or ending a starting point a space, \n",
    "\n",
    "#usually used for specifcally a biginning or ending for a word\n",
    "#works better with the  \"r\"  aka raw string in front\n",
    "\n",
    "\n",
    "#pattern_bound = re.compile(r'\\bTheCoding Temple\\b')\n",
    "pattern_bound = re.compile(r'\\bTheCodingTemple\\b')\n",
    "found_bound = pattern_bound.findall(\"TheCodingTemple\")                           \n",
    "print(found_bound)\n",
    "                           \n",
    "pattern_bound_none = re.compile(r'\\BTheCodingTemple\\B')\n",
    "found_bound_none = pattern_bound_none.findall(\"TheCodingTemple\")                           \n",
    "print(found_bound_none)                           "
   ]
  },
  {
   "cell_type": "markdown",
   "metadata": {},
   "source": [
    "### Grouping"
   ]
  },
  {
   "cell_type": "code",
   "execution_count": 18,
   "metadata": {},
   "outputs": [
    {
     "name": "stdout",
     "output_type": "stream",
     "text": [
      "[('Max', 'Smith'), ('Sam', 'Darnold'), ('LeBron', 'James'), ('Micheal', 'Jordan'), ('Kevin', 'Durant'), ('Patrick', 'McCormick')]\n",
      "('Max', 'Smith')\n",
      "Not a name\n",
      "('Sam', 'Darnold')\n",
      "('LeBron', 'James')\n",
      "('Micheal', 'Jordan')\n",
      "('Kevin', 'Durant')\n",
      "('Patrick', 'McCormick')\n"
     ]
    }
   ],
   "source": [
    "my_string_again = \"Max Smith, aaron rodgers, Sam Darnold,LeBron James, Micheal Jordan, Kevin Durant, Patrick McCormick\"\n",
    "\n",
    "#need to group things together want to get all of the Proper names together so Uppercase then a lowerspace , then a space \n",
    "# Group of names Regular Expression Compiler __use a set a-z\n",
    "#  this set [A-Z][a-zA-zA-z] looks for uppercaseletter rest lis for names like LeBron\n",
    "\n",
    "pattern_name = re.compile('([A-Z][a-zA-zA-z]+) ([A-Z][A-Za-z]+)')\n",
    "found_names = pattern_name.findall(my_string_again)\n",
    "print(found_names)\n",
    "\n",
    "#look throuh a   names and print them out one by one\n",
    "for name in my_string_again.split(','):\n",
    "    match = pattern_name.search(name)\n",
    "    if match:\n",
    "        print(match.groups(2))\n",
    "    else:\n",
    "        print(\"Not a name\")\n",
    "\n"
   ]
  },
  {
   "cell_type": "markdown",
   "metadata": {},
   "source": [
    "##### In-class Exercise 2:\n",
    "\n",
    "Write a function using regular expressions to find the domain name in the given email addresses (and return None for the invalid email addresses)<br><b>HINT: Use '|' for either or</b>"
   ]
  },
  {
   "cell_type": "code",
   "execution_count": 19,
   "metadata": {},
   "outputs": [
    {
     "ename": "SyntaxError",
     "evalue": "invalid syntax (<ipython-input-19-936979b8b3ff>, line 23)",
     "output_type": "error",
     "traceback": [
      "\u001b[1;36m  File \u001b[1;32m\"<ipython-input-19-936979b8b3ff>\"\u001b[1;36m, line \u001b[1;32m23\u001b[0m\n\u001b[1;33m    pattern = re.compile(\"[A-Za-z0-9]+@([A-Za-z0-9]+) \\W(com|org)$\")  FIX THIS\u001b[0m\n\u001b[1;37m                                                                        ^\u001b[0m\n\u001b[1;31mSyntaxError\u001b[0m\u001b[1;31m:\u001b[0m invalid syntax\n"
     ]
    }
   ],
   "source": [
    "my_emails = [\"jordanw@codingtemple.orgcom\", \"pocohontas1776@gmail.com\", \"helloworld@aol..com\",\n",
    "             \"yourfavoriteband@g6.org\", \"@codingtemple.com\"]\n",
    "\n",
    "# You can also use the $ at the end of your compile expression -- this stops the search\n",
    "#  for an of stmt  _> com | org \n",
    "#Expected output:\n",
    "#None\n",
    "#pocohontas1776@gmail.com\n",
    "#None\n",
    "#yourfavoriteband@g6.org\n",
    "#None\n",
    "\n",
    "# pattern_name = re.compile('([A-Z][a-zA-zA-z]+) ([A-Z][A-Za-z]+)')\n",
    "# found_names = pattern_name.findall(my_string_again)\n",
    "# print(found_names)\n",
    "\n",
    "#pattern_email = re.compile('([a-zA-Z0-9]+)@([.com|.org] +)')\n",
    "# findall sdoes not work well with a list sp c\n",
    "#found_email = pattern_email.findall(my_emails[0])\n",
    "#print(found_email)\n",
    "\n",
    "def validateEmail(email):\n",
    "        pattern = re.compile(\"[A-Za-z0-9]+@([A-Za-z0-9]+) \\W(com|org)$\")  FIX THIS\n",
    "        #pattern = re.compile(\"[A-Za-z0-9]+@([A-Za-z0-9]+).(com|org)$\") This works as well\n",
    "        #pattern = re.compile(\"[A-Za-z0-9]+@([A-Za-z0-9]+)(.com|.org)$\")\n",
    "        if pattern.match(email):\n",
    "            return email\n",
    "        else:\n",
    "            return None\n",
    "        \n",
    "for email in my_emails:\n",
    "    print(validateEmail(email))\n",
    "\n"
   ]
  },
  {
   "cell_type": "markdown",
   "metadata": {},
   "source": [
    "### Opening a File <br>\n",
    "<p>Python gives us a couple ways to import files, below are the two used most often.</p>"
   ]
  },
  {
   "cell_type": "markdown",
   "metadata": {},
   "source": [
    "##### open()"
   ]
  },
  {
   "cell_type": "code",
   "execution_count": null,
   "metadata": {},
   "outputs": [],
   "source": [
    "f= open(\"files/names.txt\")\n",
    "data = f.read()\n",
    "print(data)\n",
    "f.close()\n",
    "\n",
    "#better way you don't have to close (saves aciidently doing something to the file loke delte domething)\n",
    "\n"
   ]
  },
  {
   "cell_type": "markdown",
   "metadata": {},
   "source": [
    "##### with open()"
   ]
  },
  {
   "cell_type": "code",
   "execution_count": 21,
   "metadata": {},
   "outputs": [
    {
     "name": "stdout",
     "output_type": "stream",
     "text": [
      "Hawkins, Derek\tderek@codingtemple.com\t(555) 555-5555\tTeacher, Coding Temple\t@derekhawkins\n",
      "Zhai, Mo\tmozhai@codingtemple.com\t(555) 555-5554\tTeacher, Coding Temple\n",
      "Johnson, Joe\tjoejohnson@codingtemple.com\t\tJohson, Joe\n",
      "Osterberg, Sven-Erik\tgovernor@norrbotten.co.se\t\tGovernor, Norrbotten\t@sverik\n",
      ", Tim\ttim@killerrabbit.com\t\tEnchanter, Killer Rabbit Cave\n",
      "Butz, Ryan\tryanb@codingtemple.com\t(555) 555-5543\tCEO, Coding Temple\t@ryanbutz\n",
      "Doctor, The\tdoctor+companion@tardis.co.uk\t\tTime Lord, Gallifrey\n",
      "Exampleson, Example\tme@example.com\t555-555-5552\tExample, Example Co.\t@example\n",
      "Pael, Ripal\tripalp@codingtemple.com\t(555) 555-5553\tTeacher, Coding Temple\t@ripalp\n",
      "Vader, Darth\tdarth-vader@empire.gov\t(555) 555-4444\tSith Lord, Galactic Empire\t@darthvader\n",
      "Fernandez de la Vega Sanz, Maria Teresa\tmtfvs@spain.gov\t\tFirst Deputy Prime Minister, Spanish Gov\n",
      "\n"
     ]
    }
   ],
   "source": [
    "with open('files/names.txt')as f:\n",
    "    data = f.read()\n",
    "    print(data)\n",
    "# as soon as you print data the file closes"
   ]
  },
  {
   "cell_type": "markdown",
   "metadata": {},
   "source": [
    "##### re.match()"
   ]
  },
  {
   "cell_type": "code",
   "execution_count": null,
   "metadata": {},
   "outputs": [],
   "source": [
    "print(re.match(r\"Hawkins, Derek\", data))\n",
    "#\"the r\" is like th f string thing in print it matches perfeclt with the spaces a\n"
   ]
  },
  {
   "cell_type": "markdown",
   "metadata": {},
   "source": [
    "##### re.search()"
   ]
  },
  {
   "cell_type": "code",
   "execution_count": null,
   "metadata": {},
   "outputs": [],
   "source": [
    "#to search entire file for \n",
    "print(re.search(r\"ripalp@codingtemple.com\",data))"
   ]
  },
  {
   "cell_type": "markdown",
   "metadata": {},
   "source": [
    "##### Store the String to a Variable"
   ]
  },
  {
   "cell_type": "code",
   "execution_count": 22,
   "metadata": {},
   "outputs": [
    {
     "name": "stdout",
     "output_type": "stream",
     "text": [
      "What would you like to searchJohnson, Joe\n",
      "I found your data: ['Johnson, Joe']\n"
     ]
    }
   ],
   "source": [
    "answer = input(\"What would you like to search\")\n",
    "found = re.findall(answer,data)\n",
    "\n",
    "if found:\n",
    "    print(f\"I found your data: {found}\")\n",
    "else:\n",
    "    print('No')"
   ]
  },
  {
   "cell_type": "markdown",
   "metadata": {},
   "source": [
    "### In-Class Exercise #3 <br>\n",
    "<p>Print each persons name and twitter handle, using groups, should look like:</p>\n",
    "<p>==============<br>\n",
    "   Full Name / Twitter<br>\n",
    "   ==============</p>\n",
    "Derek Hawkins / @derekhawkins\n",
    "\n",
    " Erik Sven-Osterberg / @sverik\n",
    "\n",
    " Ryan Butz / @ryanbutz\n",
    "\n",
    " Example Exampleson / @example\n",
    "\n",
    " Ripal Pael / @ripalp\n",
    "\n",
    " Darth Vader / @darthvader"
   ]
  },
  {
   "cell_type": "code",
   "execution_count": 70,
   "metadata": {
    "scrolled": true
   },
   "outputs": [
    {
     "name": "stdout",
     "output_type": "stream",
     "text": [
      "Hawkins, Derek\tderek@codingtemple.com\t(555) 555-5555\tTeacher, Coding Temple\t@derekhawkins\n",
      "\n",
      "\n",
      " Derek Hawkins / @derekhawkins\n",
      "\n",
      " Erik Sven-Osterberg / @sverik\n",
      "\n",
      " Ryan Butz / @ryanbutz\n",
      "\n",
      " Example Exampleson / @example\n",
      "\n",
      " Ripal Pael / @ripalp\n",
      "\n",
      " Darth Vader / @darthvader\n"
     ]
    }
   ],
   "source": [
    "with open(\"files/names.txt\") as f:\n",
    "    data = f.readlines()\n",
    "    print(data [0]) # just derek\n",
    "    \n",
    "\n",
    "pattern = re.compile(\"([A-Z][a-z]+), ([\\w -]*)([A-Z][a-z]+).*\\s(@[a-zA_Z0-9]+$)\")\n",
    "\n",
    "for person in data:\n",
    "    match = pattern.search(person)\n",
    "    if match:\n",
    "        print('\\n', f\"{match.group(3)} {match.group(2)}{match.group(1)} / {match.group(4)}\")\n",
    "#     else:\n",
    "#         print(\"Not found\")\n"
   ]
  },
  {
   "cell_type": "markdown",
   "metadata": {},
   "source": [
    "### Regex project\n",
    "\n",
    "Use python to read the file regex_test.txt and print the last name on each line using regular expressions and groups (return None for names with no first and last name, or names that aren't properly capitalized)\n",
    "##### Hint: use with open() and readlines()"
   ]
  },
  {
   "cell_type": "code",
   "execution_count": null,
   "metadata": {},
   "outputs": [],
   "source": [
    "\"\"\"\n",
    "Expected Output\n",
    "Abraham Lincoln\n",
    "Andrew P Garfield\n",
    "Connor Milliken\n",
    "Jordan Alexander Williams\n",
    "None\n",
    "None\n",
    "\"\"\""
   ]
  },
  {
   "cell_type": "code",
   "execution_count": 76,
   "metadata": {},
   "outputs": [
    {
     "name": "stdout",
     "output_type": "stream",
     "text": [
      "Abraham  Lincoln \n",
      "Andrew P Garfield \n",
      "Connor  Milliken \n",
      "Jordan Alexander Williams \n",
      "None\n",
      "None\n"
     ]
    }
   ],
   "source": [
    "with open(\"files/regex_test.txt\") as f:\n",
    "    data = f.readlines()\n",
    "    #print(data[0]) # just first line of file\n",
    "    \n",
    "    \n",
    "#                                        ? - something that occurs 0 or 1 time... so optional\n",
    "pattern = re.compile('([A-Z][a-zA-zA-z]+) ?([A-Za-z]*)? ([A-Z][A-Za-z]+)')\n",
    "#                          Group1              Group2        Group3\n",
    "\n",
    "\n",
    "for person in data:\n",
    "    match = pattern.search(person)\n",
    "    if match:              \n",
    "        print(f\"{match.group(1)} {match.group(2)} {match.group(3)} \")\n",
    "        \n",
    "    else:\n",
    "        print(None)"
   ]
  },
  {
   "cell_type": "code",
   "execution_count": null,
   "metadata": {},
   "outputs": [],
   "source": []
  }
 ],
 "metadata": {
  "kernelspec": {
   "display_name": "Python 3",
   "language": "python",
   "name": "python3"
  },
  "language_info": {
   "codemirror_mode": {
    "name": "ipython",
    "version": 3
   },
   "file_extension": ".py",
   "mimetype": "text/x-python",
   "name": "python",
   "nbconvert_exporter": "python",
   "pygments_lexer": "ipython3",
   "version": "3.7.6"
  }
 },
 "nbformat": 4,
 "nbformat_minor": 2
}
